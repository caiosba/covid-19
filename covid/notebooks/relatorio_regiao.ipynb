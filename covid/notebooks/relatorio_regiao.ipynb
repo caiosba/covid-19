{
 "cells": [
  {
   "cell_type": "code",
   "execution_count": 1,
   "metadata": {},
   "outputs": [],
   "source": [
    "# Imports\n",
    "import pandas as pd\n",
    "import matplotlib.pyplot as plt\n",
    "import numpy as np\n",
    "import seaborn as sns\n",
    "import datetime\n",
    "\n",
    "import covid\n",
    "from covid import data\n",
    "from covid.models import SEICHAR, SEICHARDemographic\n",
    "from covid.utils import pm, pc, fmt\n",
    "\n",
    "\n",
    "# Constants\n",
    "now = datetime.datetime.now()\n",
    "today = datetime.date(now.year, now.month, now.day)\n",
    "day = datetime.timedelta(days=1)\n",
    "plt.rcParams['figure.figsize'] = [10, 8]\n",
    "sns.set(style=\"darkgrid\")"
   ]
  },
  {
   "cell_type": "code",
   "execution_count": 2,
   "metadata": {},
   "outputs": [],
   "source": [
    "# Parameters\n",
    "region_name = 'Brazil/São Paulo'\n",
    "seed = 1000\n",
    "first_case = datetime.date(2020, 2, 25)\n",
    "i18n = 'pt-BR'\n",
    "time_final = 180"
   ]
  },
  {
   "cell_type": "code",
   "execution_count": 4,
   "metadata": {},
   "outputs": [],
   "source": [
    "# Derived variables\n",
    "region = covid.region(region_name)\n",
    "covid.set_i18n(i18n)"
   ]
  },
  {
   "cell_type": "markdown",
   "metadata": {
    "variables": {
     " region.short_name ": "<p><strong>AttributeError</strong>: &#39;BrazilMunicipality&#39; object has no attribute &#39;short_name&#39;</p>\n",
     "-region.short_name-": "<p><strong>SyntaxError</strong>: invalid syntax (<ipython-input-5-850cbfab0977>, line 1)</p>\n"
    }
   },
   "source": [
    "# Relatório de propagação do COVID-19: {{ region.short_name }}\n",
    "\n",
    "Covid-19 é uma ameaça global, XXX.\n",
    "\n",
    "Este relatório faz uma previsão da velocidade de alastramento da epidemia de COVID-19 e do impacto desta no sistema de saúde. Fazemos algumas recomendações de ações para conter ou diminuir a velocidade de alastramento do vírus, além de recomendações sobre o tempo ideal para realizar as intervenções.\n",
    "\n",
    "A simulação possui algumas limitações e incertezas, principalmente porque ainda não conhecemos com muita precisão alguns parâmetros epidemiológicos e clínicos da doença. Alguns destes fatores possuem enorme impacto sobre o resultado final. Dependendo do caso, pequenas variações destes parâmetros podem afetar bastante o resultado das simulações.  "
   ]
  },
  {
   "cell_type": "markdown",
   "metadata": {
    "variables": {
     " fmt(region.population_size) ": "11.25mi",
     " region ": "São Paulo",
     " region.hospital_total_capacity ": "13534.0",
     " region.population_size ": "11253503"
    }
   },
   "source": [
    "## Características básicas da região\n",
    "\n",
    "**Nome:** {{ region }}\n",
    "\n",
    "**População:** {{ fmt(region.population_size) }}\n",
    "* 0-19:\n",
    "* 20-49:\n",
    "* 50+:\n",
    "\n",
    "**Leitos** \n",
    "* Enfermaria: {{ region.hospital_total_capacity }}\n",
    "* UTI: {{ region.population_size }}"
   ]
  },
  {
   "cell_type": "markdown",
   "metadata": {},
   "source": [
    "## Cenário base sem nenhuma intervenção\n",
    "\n",
    "A simulação a seguir considera os valores demográficos e da saúde da região caso não haja interferência"
   ]
  },
  {
   "cell_type": "code",
   "execution_count": 5,
   "metadata": {},
   "outputs": [
    {
     "ename": "TypeError",
     "evalue": "__init__() missing 1 required positional argument: 'demography'",
     "output_type": "error",
     "traceback": [
      "\u001b[0;31m---------------------------------------------------------------------------\u001b[0m",
      "\u001b[0;31mTypeError\u001b[0m                                 Traceback (most recent call last)",
      "\u001b[0;32m<ipython-input-5-d2d68c1d8b83>\u001b[0m in \u001b[0;36m<module>\u001b[0;34m\u001b[0m\n\u001b[0;32m----> 1\u001b[0;31m \u001b[0mregion\u001b[0m \u001b[0;34m=\u001b[0m \u001b[0mcovid\u001b[0m\u001b[0;34m.\u001b[0m\u001b[0mRegion\u001b[0m\u001b[0;34m(\u001b[0m\u001b[0;34m'Brazil'\u001b[0m\u001b[0;34m)\u001b[0m\u001b[0;34m\u001b[0m\u001b[0;34m\u001b[0m\u001b[0m\n\u001b[0m\u001b[1;32m      2\u001b[0m \u001b[0;34m\u001b[0m\u001b[0m\n\u001b[1;32m      3\u001b[0m \u001b[0mpa\u001b[0m \u001b[0;34m=\u001b[0m \u001b[0mregion\u001b[0m\u001b[0;34m.\u001b[0m\u001b[0mdemography\u001b[0m\u001b[0;34m.\u001b[0m\u001b[0mvalues\u001b[0m \u001b[0;34m*\u001b[0m \u001b[0;36m0\u001b[0m \u001b[0;34m+\u001b[0m \u001b[0;36m0.14\u001b[0m\u001b[0;34m\u001b[0m\u001b[0;34m\u001b[0m\u001b[0m\n\u001b[1;32m      4\u001b[0m \u001b[0mpa\u001b[0m \u001b[0;34m=\u001b[0m \u001b[0mpa\u001b[0m \u001b[0;34m*\u001b[0m \u001b[0;36m0.5\u001b[0m \u001b[0;34m+\u001b[0m \u001b[0;34m(\u001b[0m\u001b[0;36m1\u001b[0m \u001b[0;34m-\u001b[0m \u001b[0mpa\u001b[0m\u001b[0;34m)\u001b[0m \u001b[0;34m*\u001b[0m \u001b[0;36m0.85\u001b[0m \u001b[0;34m*\u001b[0m \u001b[0mnp\u001b[0m\u001b[0;34m.\u001b[0m\u001b[0mexp\u001b[0m\u001b[0;34m(\u001b[0m\u001b[0;34m-\u001b[0m\u001b[0;34m(\u001b[0m\u001b[0;36m8\u001b[0m \u001b[0;34m-\u001b[0m \u001b[0mnp\u001b[0m\u001b[0;34m.\u001b[0m\u001b[0marange\u001b[0m\u001b[0;34m(\u001b[0m\u001b[0;36m9\u001b[0m\u001b[0;34m)\u001b[0m\u001b[0;34m)\u001b[0m \u001b[0;34m/\u001b[0m \u001b[0;36m2.5\u001b[0m\u001b[0;34m)\u001b[0m\u001b[0;34m\u001b[0m\u001b[0;34m\u001b[0m\u001b[0m\n\u001b[1;32m      5\u001b[0m \u001b[0;34m\u001b[0m\u001b[0m\n",
      "\u001b[0;31mTypeError\u001b[0m: __init__() missing 1 required positional argument: 'demography'"
     ]
    }
   ],
   "source": [
    "region = covid.Region('Brazil')\n",
    "\n",
    "pa = region.demography.values * 0 + 0.14\n",
    "pa = pa * 0.5 + (1 - pa) * 0.85 * np.exp(-(8 - np.arange(9)) / 2.5)\n",
    "\n",
    "\n",
    "m1 = SEICHARDemographic(region=region, seed=7000, R0=2.5)\n",
    "m1m = SEICHARDemographic(region=region, seed=7000, R0=1.5)\n",
    "\n",
    "m1.prob_hospitalization = 2.0 * m1.prob_hospitalization.copy()\n",
    "m1m.prob_hospitalization = 2.0 * m1m.prob_hospitalization.copy()\n",
    "\n",
    "\n",
    "m2 = SEICHARDemographic(region=region, seed=7000, R0=2.5, prob_symptomatic=0.5)\n",
    "m2m = SEICHARDemographic(region=region, seed=7000, R0=1.5, prob_symptomatic=0.5)\n",
    "\n",
    "m3 = SEICHARDemographic(region=region, seed=7000, R0=2.5)\n",
    "m3m = SEICHARDemographic(region=region, seed=7000, R0=1.5)\n",
    "m3.prob_symptomatic = pa\n",
    "m3m.prob_symptomatic = pa\n",
    "\n",
    "m1.run(time_final)\n",
    "m2.run(time_final)\n",
    "m1m.run(time_final)\n",
    "m2m.run(time_final)\n",
    "m3.run(time_final)\n",
    "m3m.run(time_final)"
   ]
  },
  {
   "cell_type": "code",
   "execution_count": 6,
   "metadata": {},
   "outputs": [
    {
     "ename": "NameError",
     "evalue": "name 'm1' is not defined",
     "output_type": "error",
     "traceback": [
      "\u001b[0;31m---------------------------------------------------------------------------\u001b[0m",
      "\u001b[0;31mNameError\u001b[0m                                 Traceback (most recent call last)",
      "\u001b[0;32m<ipython-input-6-2ea4f7792bf1>\u001b[0m in \u001b[0;36m<module>\u001b[0;34m\u001b[0m\n\u001b[1;32m      1\u001b[0m \u001b[0mplt\u001b[0m\u001b[0;34m.\u001b[0m\u001b[0msubplot\u001b[0m\u001b[0;34m(\u001b[0m\u001b[0;36m321\u001b[0m\u001b[0;34m)\u001b[0m\u001b[0;34m\u001b[0m\u001b[0;34m\u001b[0m\u001b[0m\n\u001b[0;32m----> 2\u001b[0;31m \u001b[0mm1\u001b[0m\u001b[0;34m.\u001b[0m\u001b[0mplot\u001b[0m\u001b[0;34m.\u001b[0m\u001b[0mhealthcare_overflow\u001b[0m\u001b[0;34m(\u001b[0m\u001b[0mymin\u001b[0m\u001b[0;34m=\u001b[0m\u001b[0;36m100\u001b[0m\u001b[0;34m,\u001b[0m \u001b[0mtitle\u001b[0m\u001b[0;34m=\u001b[0m\u001b[0;34m'Sem mitigação'\u001b[0m\u001b[0;34m,\u001b[0m \u001b[0mylabel\u001b[0m\u001b[0;34m=\u001b[0m\u001b[0;34m'86% assintomáticos'\u001b[0m\u001b[0;34m,\u001b[0m \u001b[0mxticks\u001b[0m\u001b[0;34m=\u001b[0m\u001b[0;32mNone\u001b[0m\u001b[0;34m)\u001b[0m\u001b[0;34m\u001b[0m\u001b[0;34m\u001b[0m\u001b[0m\n\u001b[0m\u001b[1;32m      3\u001b[0m \u001b[0mplt\u001b[0m\u001b[0;34m.\u001b[0m\u001b[0mylim\u001b[0m\u001b[0;34m(\u001b[0m\u001b[0;34m(\u001b[0m\u001b[0;36m1000\u001b[0m\u001b[0;34m,\u001b[0m \u001b[0;36m2e6\u001b[0m\u001b[0;34m)\u001b[0m\u001b[0;34m)\u001b[0m\u001b[0;34m\u001b[0m\u001b[0;34m\u001b[0m\u001b[0m\n\u001b[1;32m      4\u001b[0m \u001b[0;34m\u001b[0m\u001b[0m\n\u001b[1;32m      5\u001b[0m \u001b[0mplt\u001b[0m\u001b[0;34m.\u001b[0m\u001b[0msubplot\u001b[0m\u001b[0;34m(\u001b[0m\u001b[0;36m323\u001b[0m\u001b[0;34m)\u001b[0m\u001b[0;34m\u001b[0m\u001b[0;34m\u001b[0m\u001b[0m\n",
      "\u001b[0;31mNameError\u001b[0m: name 'm1' is not defined"
     ]
    },
    {
     "data": {
      "image/png": "[encoded data removed]",
      "text/plain": [
       "<Figure size 720x576 with 1 Axes>"
      ]
     },
     "metadata": {},
     "output_type": "display_data"
    }
   ],
   "source": [
    "plt.subplot(321)\n",
    "m1.plot.healthcare_overflow(ymin=100, title='Sem mitigação', ylabel='86% assintomáticos', xticks=None)\n",
    "plt.ylim((1000, 2e6))\n",
    "\n",
    "plt.subplot(323)\n",
    "m2.plot.healthcare_overflow(ymin=100, title=None, ylabel='50% assintomáticos', xticks=None)\n",
    "plt.ylim((1000, 2e6))\n",
    "\n",
    "plt.subplot(325)\n",
    "m3.plot.healthcare_overflow(ymin=100, title=None, ylabel='Variável')\n",
    "plt.ylim((1000, 2e6))\n",
    "\n",
    "\n",
    "plt.subplot(322)\n",
    "m1m.plot.healthcare_overflow(ymin=100, title='Mitigação 60%', xticks=None, ylabel=None)\n",
    "plt.ylim((1000, 2e6))\n",
    "\n",
    "plt.subplot(324)\n",
    "m2m.plot.healthcare_overflow(ymin=100, title=None, ylabel=None, xticks=None)\n",
    "plt.ylim((1000, 2e6))\n",
    "\n",
    "plt.subplot(326)\n",
    "m3m.plot.healthcare_overflow(ymin=100, title=None, ylabel=None)\n",
    "plt.ylim((1000, 2e6))\n",
    "\n",
    "\n",
    "plt.savefig('hosp_scenarios.png')"
   ]
  },
  {
   "cell_type": "code",
   "execution_count": 6,
   "metadata": {},
   "outputs": [
    {
     "data": {
      "text/plain": [
       "<covid.models.seichar_demographic.SEICHARDemographic at 0x7fae59e9f460>"
      ]
     },
     "execution_count": 6,
     "metadata": {},
     "output_type": "execute_result"
    }
   ],
   "source": [
    "m3s= SEICHARDemographic(region=region, seed=7000, R0=0.9, prob_symptomatic=0.5)\n",
    "m3s.run(time_final)"
   ]
  },
  {
   "cell_type": "code",
   "execution_count": 11,
   "metadata": {},
   "outputs": [
    {
     "name": "stdout",
     "output_type": "stream",
     "text": [
      "\n",
      "SIMULATION PARAMETERS (SEICHARDemographic)\n",
      "\n",
      "Parameters\n",
      "- R0                : 1.50\n",
      "- P(is symptomatic) : 14.00%\n",
      "\n",
      "\n",
      "SIMULATION RESULTS (SEICHARDemographic)\n",
      "\n",
      "Demography\n",
      "- Total population   : 212.55mi\n",
      "- Recovered          : 116.42mi (54.77%)\n",
      "- Fatalities (total) : 0.47mi (0.23%)\n",
      "- Infectious (max)   : 16.37mi (7.70%)\n",
      "- Asymptomatic (max) : 100.58mi (47.32%)\n",
      "- Exposed (max)      : 835.41mi (393.03%)\n",
      "- Fatalities demography: \n",
      "           fatalities  fatalities (%)   IFR (%)    CFR (%)\n",
      "    age                                                   \n",
      "    0-9           140        0.000485  0.000162   0.003588\n",
      "    10-19         596        0.001913  0.000488   0.010827\n",
      "    20-29        2409        0.007065  0.002004   0.044455\n",
      "    30-39        7554        0.021911  0.005358   0.118866\n",
      "    40-49       13609        0.046193  0.010330   0.229167\n",
      "    50-59       42224        0.172901  0.041796   0.927136\n",
      "    60-69      106338        0.629334  0.155263   3.443232\n",
      "    70-79      153084        1.739397  0.366168   8.115861\n",
      "    80+        152575        3.668561  0.699129  15.477396\n",
      "    total      478532        0.225129  0.057281   1.270592\n",
      "\n",
      "Epidemiology\n",
      "- R0   : 1.5\n",
      "- IFR  : 0.06%\n",
      "- CFR  : 2.92%\n",
      "\n",
      "\n",
      "Healthcare parameters\n",
      "- Hosp. days         : 6.77mi\n",
      "- ICU days           : 9.62mi\n",
      "- Peak hosp. demand  : 0.10mi (0.51‰)\n",
      "    x surge capacity : 0.64\n",
      "    x total          : 0.16\n",
      "- Peak ICU demand    : 0.13mi (0.62‰)\n",
      "    x surge capacity : 7.81\n",
      "    x total          : 1.95\n",
      "- Hosp. overflow     : inf days (None)\n",
      "- ICU overflow       : 52.75 days (2020-05-19)\n",
      "\n",
      "\n",
      "Invariants\n",
      "    - Sum of compartments: 212.55mi (3.02e-14%)\n",
      "    \n"
     ]
    }
   ],
   "source": [
    "print(m1m)"
   ]
  },
  {
   "cell_type": "code",
   "execution_count": 42,
   "metadata": {},
   "outputs": [
    {
     "data": {
      "image/png": "[encoded data removed]",
      "text/plain": [
       "<Figure size 720x576 with 1 Axes>"
      ]
     },
     "metadata": {
      "needs_background": "light"
     },
     "output_type": "display_data"
    }
   ],
   "source": [
    "m3s.plot.healthcare_overflow()"
   ]
  },
  {
   "cell_type": "code",
   "execution_count": 5,
   "metadata": {},
   "outputs": [
    {
     "data": {
      "image/png": "[encoded data removed]",
      "text/plain": [
       "<Figure size 720x576 with 1 Axes>"
      ]
     },
     "metadata": {
      "needs_background": "light"
     },
     "output_type": "display_data"
    }
   ],
   "source": [
    "m_base = SEICHARDemographic(region=region, seed=seed)\n",
    "m_base.run(time_final)\n",
    "\n",
    "m_base.data.loc[:30, [('hospitalized'), ('critical')]].plot.bar(width=1.5, label=['Hospitalizados', 'Críticos'])\n",
    "sns.lineplot(x=[0, 30], y=[m_base.hospital_capacity]*2, lw=4)\n",
    "sns.lineplot(x=[0, 30], y=[m_base.icu_capacity]*2, lw=4)\n",
    "\n",
    "T = np.arange(0, 30 + 1, 3)\n",
    "plt.xticks(T, today + day * T, rotation=45)\n",
    "plt.ylabel('número de casos')\n",
    "plt.yscale('log')\n",
    "plt.show()"
   ]
  },
  {
   "cell_type": "code",
   "execution_count": 135,
   "metadata": {},
   "outputs": [
    {
     "name": "stderr",
     "output_type": "stream",
     "text": [
      "/usr/lib/python3.8/site-packages/IPython/core/async_helpers.py:68: PerformanceWarning: indexing past lexsort depth may impact performance.\n",
      "  coro.send(None)\n"
     ]
    },
    {
     "data": {
      "text/plain": [
       "Text(0.5, 1.0, 'Leitos UTI')"
      ]
     },
     "execution_count": 135,
     "metadata": {},
     "output_type": "execute_result"
    },
    {
     "data": {
      "image/png": "[encoded data removed]",
      "text/plain": [
       "<Figure size 720x576 with 2 Axes>"
      ]
     },
     "metadata": {
      "needs_background": "light"
     },
     "output_type": "display_data"
    }
   ],
   "source": [
    "m1 = SEICHARDemographic(region=region, seed=seed)\n",
    "m1.run(time_final)\n",
    "\n",
    "m2 = SEICHARDemographic(region=region, seed=seed, R0=1.2)\n",
    "m2.run(time_final)\n",
    "\n",
    "\n",
    "plt.subplot(211)\n",
    "y1 = m1.data['hospitalized', 'total'].values[:30]\n",
    "y2 = m2.data['hospitalized', 'total'].values[:30]\n",
    "T = np.arange(30)\n",
    "plt.bar(T, y1, label='Sem intervenção')\n",
    "plt.bar(T, y2, label= 'Com intervenção')\n",
    "plt.plot(T, [m1.hospital_capacity] * 30, lw=4)\n",
    "#plt.yscale('log')\n",
    "plt.title('Leitos Regulares')\n",
    "\n",
    "\n",
    "plt.subplot(212)\n",
    "y1 = m1.data['critical', 'total'].values[:30]\n",
    "y2 = m2.data['critical', 'total'].values[:30]\n",
    "T = np.arange(30)\n",
    "plt.bar(T, y1, label='Sem intervenção')\n",
    "plt.bar(T, y2, label= 'Com intervenção')\n",
    "plt.plot(T, [m1.icu_capacity] * 30, lw=1)\n",
    "plt.plot(T, [m1.icu_capacity] * 30, lw=4)\n",
    "#plt.yscale('log')\n",
    "plt.legend()\n",
    "plt.title('Leitos UTI')\n"
   ]
  },
  {
   "cell_type": "code",
   "execution_count": 121,
   "metadata": {},
   "outputs": [
    {
     "data": {
      "text/plain": [
       "6028.500000000001"
      ]
     },
     "execution_count": 121,
     "metadata": {},
     "output_type": "execute_result"
    }
   ],
   "source": [
    "m1.hospital_capacity"
   ]
  },
  {
   "cell_type": "code",
   "execution_count": null,
   "metadata": {},
   "outputs": [],
   "source": [
    "t = m_base.data[('hospitalized', 'total')] + m_base.data[('critical', 'total')]\n",
    "#for c in t.values:\n",
    "#    print(int(c))"
   ]
  },
  {
   "cell_type": "code",
   "execution_count": 33,
   "metadata": {},
   "outputs": [],
   "source": [
    "data = np.array(list(map(int, \"\"\"77\n",
    "52\n",
    "53\n",
    "42\n",
    "59\n",
    "62\n",
    "50\n",
    "54\n",
    "43\n",
    "64\n",
    "51\n",
    "51\n",
    "47\n",
    "60\n",
    "63\n",
    "59\n",
    "62\n",
    "46\n",
    "51\n",
    "54\n",
    "52\n",
    "48\n",
    "53\n",
    "52\n",
    "56\n",
    "50\n",
    "46\n",
    "49\n",
    "48\n",
    "48\n",
    "43\n",
    "66\n",
    "49\n",
    "61\n",
    "66\n",
    "63\n",
    "53\n",
    "70\n",
    "58\n",
    "66\n",
    "85\n",
    "61\n",
    "72\n",
    "67\n",
    "91\n",
    "78\n",
    "85\n",
    "114\n",
    "76\n",
    "93\n",
    "106\n",
    "100\n",
    "105\n",
    "99\n",
    "118\n",
    "107\n",
    "103\n",
    "104\n",
    "111\n",
    "119\n",
    "161\n",
    "125\n",
    "123\n",
    "108\n",
    "138\n",
    "143\n",
    "164\n",
    "201\n",
    "238\n",
    "308\n",
    "287\n",
    "405\n",
    "443\n",
    "478\n",
    "567\n",
    "658\n",
    "616\n",
    "588\n",
    "575\n",
    "622\n",
    "470\n",
    "423\n",
    "336\n",
    "182\n",
    "68\n",
    "9\"\"\".splitlines())))"
   ]
  },
  {
   "cell_type": "code",
   "execution_count": 51,
   "metadata": {},
   "outputs": [
    {
     "data": {
      "text/plain": [
       "array([ 2.20000000e+01,  1.75811537e+01,  1.31199514e+01, -3.02866572e+00,\n",
       "       -1.77889125e+00,  2.76297962e+00, -4.71481025e+00, -7.72872764e+00,\n",
       "       -2.11143125e+01, -1.20488111e+01, -1.52104700e+01, -1.74452269e+01,\n",
       "       -2.26687344e+01, -1.36093313e+01, -9.34024444e-01,  7.49999579e+00,\n",
       "        1.81643553e+01,  1.14209153e+01,  8.79537357e+00,  8.51394876e+00,\n",
       "        5.63709064e+00, -1.61126224e+00, -3.73968293e+00, -6.61863796e+00,\n",
       "       -5.07854363e+00, -9.24575102e+00, -1.68703814e+01, -2.04956917e+01,\n",
       "       -2.39523239e+01, -2.60927211e+01, -3.18637304e+01, -1.29814781e+01,\n",
       "       -1.07703613e+01,  3.60580883e+00,  2.22092250e+01,  3.58899341e+01,\n",
       "        3.68896271e+01,  5.23167376e+01,  5.23422382e+01,  5.71838646e+01,\n",
       "        7.77347032e+01,  6.98816013e+01,  6.94150526e+01,  6.05981882e+01,\n",
       "        7.32157064e+01,  6.96193296e+01,  7.02482729e+01,  9.72409213e+01,\n",
       "        8.20264600e+01,  8.08574449e+01,  8.99998172e+01,  9.00373546e+01,\n",
       "        9.21678763e+01,  8.54414608e+01,  9.54761673e+01,  9.17692194e+01,\n",
       "        8.17365069e+01,  7.11750652e+01,  6.68646259e+01,  7.01314874e+01,\n",
       "        1.14792221e+02,  1.20005612e+02,  1.19657764e+02,  1.01000784e+02,\n",
       "        1.10451334e+02,  1.22521970e+02,  1.52587708e+02,  2.14903314e+02,\n",
       "        3.05756216e+02,  4.52832822e+02,  5.56536193e+02,  7.50621103e+02,\n",
       "        9.44351630e+02,  1.12470710e+03,  1.33717569e+03,  1.57372347e+03,\n",
       "        1.69041069e+03,  1.69873330e+03,  1.61833751e+03,  1.51929158e+03,\n",
       "        1.21321727e+03,  8.28403177e+02,  3.51714115e+02, -2.52792399e+02,\n",
       "       -9.07818508e+02, -1.52021365e+03])"
      ]
     },
     "execution_count": 51,
     "metadata": {},
     "output_type": "execute_result"
    }
   ],
   "source": [
    "xs = np.asarray(np.add.accumulate(data - 55), float)\n",
    "n = len(xs)\n",
    "for i in range(n):\n",
    "    x = xs[i]\n",
    "    decay = (1 - np.exp(-np.arange(n - i)/15))\n",
    "    xs[i:] -=  * x\n",
    "    \n",
    "xs"
   ]
  },
  {
   "cell_type": "code",
   "execution_count": 52,
   "metadata": {},
   "outputs": [
    {
     "data": {
      "text/plain": [
       "array([  22,   19,   17,    4,    8,   15,   10,    9,    0,    6,    2,\n",
       "          0,    0,    0,    3,    7,   14,    5,    1,    0,    0,    0,\n",
       "          0,    0,    0,    0,    0,    0,    0,    0,    0,    0,    0,\n",
       "          0,    0,    0,    0,    0,    0,    0,   27,   33,   50,   62,\n",
       "         98,  121,  151,  210,  231,  269,  320,  365,  415,  459,  522,\n",
       "        574,  622,  671,  727,  791,  897,  967, 1035, 1088, 1171, 1259,\n",
       "       1368, 1514, 1697, 1950, 2182, 2532, 2920, 3343, 3855, 4458, 5019,\n",
       "       5552, 6072, 6639, 7054, 7422, 7703, 7830, 7843, 7797])"
      ]
     },
     "execution_count": 52,
     "metadata": {},
     "output_type": "execute_result"
    }
   ],
   "source": [
    "xs = np.add.accumulate(data - 55)\n",
    "xs = np.where(xs > 0, xs, 0)\n",
    "xs"
   ]
  },
  {
   "cell_type": "code",
   "execution_count": 53,
   "metadata": {},
   "outputs": [
    {
     "name": "stdout",
     "output_type": "stream",
     "text": [
      "22\n",
      "19\n",
      "17\n",
      "4\n",
      "8\n",
      "15\n",
      "10\n",
      "9\n",
      "0\n",
      "6\n",
      "2\n",
      "0\n",
      "0\n",
      "0\n",
      "3\n",
      "7\n",
      "14\n",
      "5\n",
      "1\n",
      "0\n",
      "0\n",
      "0\n",
      "0\n",
      "0\n",
      "0\n",
      "0\n",
      "0\n",
      "0\n",
      "0\n",
      "0\n",
      "0\n",
      "0\n",
      "0\n",
      "0\n",
      "0\n",
      "0\n",
      "0\n",
      "0\n",
      "0\n",
      "0\n",
      "27\n",
      "33\n",
      "50\n",
      "62\n",
      "98\n",
      "121\n",
      "151\n",
      "210\n",
      "231\n",
      "269\n",
      "320\n",
      "365\n",
      "415\n",
      "459\n",
      "522\n",
      "574\n",
      "622\n",
      "671\n",
      "727\n",
      "791\n",
      "897\n",
      "967\n",
      "1035\n",
      "1088\n",
      "1171\n",
      "1259\n",
      "1368\n",
      "1514\n",
      "1697\n",
      "1950\n",
      "2182\n",
      "2532\n",
      "2920\n",
      "3343\n",
      "3855\n",
      "4458\n",
      "5019\n",
      "5552\n",
      "6072\n",
      "6639\n",
      "7054\n",
      "7422\n",
      "7703\n",
      "7830\n",
      "7843\n",
      "7797\n"
     ]
    }
   ],
   "source": [
    "for x in xs:\n",
    "    print(x)"
   ]
  },
  {
   "cell_type": "markdown",
   "metadata": {},
   "source": [
    "## Necessidade de leitos\n",
    "\n",
    "Projeção da quantidade de leitos necessários, ocupados e disponíveis na região"
   ]
  },
  {
   "cell_type": "code",
   "execution_count": 8,
   "metadata": {},
   "outputs": [
    {
     "data": {
      "image/png": "[encoded data removed]",
      "text/plain": [
       "<Figure size 432x288 with 1 Axes>"
      ]
     },
     "metadata": {
      "needs_background": "light"
     },
     "output_type": "display_data"
    }
   ],
   "source": [
    "fig, ax = plt.subplots()\n",
    "ax.axhline(y=model.hospital_total_capacity, color='m', label=\"Capacidade hospitalar\")\n",
    "RSEICHAPlot(model).plot()"
   ]
  },
  {
   "cell_type": "markdown",
   "metadata": {},
   "source": [
    "Conforme o gráfico acima, o sistema de saúde atinge sua lotação máxima em **{{model.hospital_limit_time}}** dias. Ou seja, a partir do dia {{model.hospital_limit_date}}, todos os leitos dos hospitais estarão sendo usados (considerando apenas os pacientes com covid-19)"
   ]
  },
  {
   "cell_type": "code",
   "execution_count": 13,
   "metadata": {},
   "outputs": [],
   "source": [
    "# Por mil habitantes\n",
    "pormil = False # Falso para valores absolutos"
   ]
  },
  {
   "cell_type": "code",
   "execution_count": 14,
   "metadata": {},
   "outputs": [
    {
     "name": "stdout",
     "output_type": "stream",
     "text": [
      "nec [782492.6845761953, 273111.5266095693]\n",
      "disp [149641.536, 68018.87999999999]\n",
      "ocup [317988.2640000001, 144540.12]\n",
      "total [467629.80000000005, 212559.0]\n"
     ]
    },
    {
     "data": {
      "image/png": "[encoded data removed]",
      "text/plain": [
       "<Figure size 432x288 with 1 Axes>"
      ]
     },
     "metadata": {
      "needs_background": "light"
     },
     "output_type": "display_data"
    }
   ],
   "source": [
    "labels = ['internação', 'UTI']\n",
    "\n",
    "available = [model.hospital_capacity, model.icu_capacity]\n",
    "capacity = [model.hospital_total_capacity, model.icu_total_capacity]\n",
    "required = [model.peak_hospitalization_demand, model.peak_icu_demand]\n",
    "unavailable = [total-av for total, av in zip(capacity, available)]\n",
    "\n",
    "label = \"\"\n",
    "if pormil:\n",
    "    pop = model.population\n",
    "    label = \"por mil habitantes\"\n",
    "    available = [item/pop * 1000 for item in available]\n",
    "    capacity = [item/pop * 1000 for item in capacity]\n",
    "    unavailable = [item/pop * 1000 for item in unavailable]\n",
    "    required = [item/pop * 1000 for item in required]\n",
    "\n",
    "print(\"nec\", required)\n",
    "print(\"disp\", available)\n",
    "print(\"ocup\", unavailable)\n",
    "print(\"total\", capacity)\n",
    "\n",
    "x = np.arange(len(labels))\n",
    "width = 0.35\n",
    "fig, ax = plt.subplots()\n",
    "\n",
    "ax.bar(labels, unavailable, width, label='Ocupados')\n",
    "ax.bar(labels, available, width, bottom=unavailable, label='Disponíveis')\n",
    "ax.bar(width+x, required, width, label='Necessários')\n",
    "\n",
    "ax.set_ylabel('Leitos'+label)\n",
    "ax.set_title('Leitos totais, disponíveis e necessários')\n",
    "ax.legend()\n",
    "\n",
    "plt.show()"
   ]
  },
  {
   "cell_type": "code",
   "execution_count": 93,
   "metadata": {},
   "outputs": [
    {
     "data": {
      "image/png": "[encoded data removed]",
      "text/plain": [
       "<Figure size 432x288 with 1 Axes>"
      ]
     },
     "metadata": {
      "needs_background": "light"
     },
     "output_type": "display_data"
    }
   ],
   "source": [
    "peak = model.peak_hospitalization_demand\n",
    "h = model['hospitalized']\n",
    "day_collapsed = model.hospital_limit_time\n",
    "days_to_peak = int(h.index[h == peak].to_list()[0])\n",
    "h = h[day_collapsed:days_to_peak]\n",
    "\n",
    "width = 0.75\n",
    "fig, ax = plt.subplots()\n",
    "\n",
    "ax.axhline(y=model.hospital_capacity, color='m', label=\"Capacidade hospitalar\")\n",
    "ax.bar(h.index, h, width, label=\"Hospitalizações\")\n",
    "\n",
    "ax.set_ylabel('Leitos')\n",
    "ax.set_xlabel('Dia')\n",
    "plt.legend()\n",
    "plt.show()"
   ]
  },
  {
   "cell_type": "code",
   "execution_count": 88,
   "metadata": {},
   "outputs": [],
   "source": [
    "import chart_studio.plotly as py\n",
    "import plotly.figure_factory as ff\n",
    "import pandas as pd\n",
    "\n",
    "df = pd.read_csv(\"https://raw.githubusercontent.com/plotly/datasets/master/school_earnings.csv\")"
   ]
  },
  {
   "cell_type": "code",
   "execution_count": 89,
   "metadata": {},
   "outputs": [
    {
     "ename": "KeyboardInterrupt",
     "evalue": "",
     "output_type": "error",
     "traceback": [
      "\u001b[0;31m---------------------------------------------------------------------------\u001b[0m",
      "\u001b[0;31mKeyboardInterrupt\u001b[0m                         Traceback (most recent call last)",
      "\u001b[0;32m<ipython-input-89-11a0ae7a6191>\u001b[0m in \u001b[0;36m<module>\u001b[0;34m\u001b[0m\n\u001b[1;32m      1\u001b[0m \u001b[0mtable\u001b[0m \u001b[0;34m=\u001b[0m \u001b[0mff\u001b[0m\u001b[0;34m.\u001b[0m\u001b[0mcreate_table\u001b[0m\u001b[0;34m(\u001b[0m\u001b[0mdf\u001b[0m\u001b[0;34m)\u001b[0m\u001b[0;34m\u001b[0m\u001b[0;34m\u001b[0m\u001b[0m\n\u001b[0;32m----> 2\u001b[0;31m \u001b[0mpy\u001b[0m\u001b[0;34m.\u001b[0m\u001b[0miplot\u001b[0m\u001b[0;34m(\u001b[0m\u001b[0mtable\u001b[0m\u001b[0;34m,\u001b[0m \u001b[0mfilename\u001b[0m\u001b[0;34m=\u001b[0m\u001b[0;34m'jupyter-table1'\u001b[0m\u001b[0;34m)\u001b[0m\u001b[0;34m\u001b[0m\u001b[0;34m\u001b[0m\u001b[0m\n\u001b[0m",
      "\u001b[0;32m~/.local/lib/python3.8/site-packages/chart_studio/plotly/plotly.py\u001b[0m in \u001b[0;36miplot\u001b[0;34m(figure_or_data, **plot_options)\u001b[0m\n\u001b[1;32m    133\u001b[0m     \u001b[0;32mif\u001b[0m \u001b[0;34m\"auto_open\"\u001b[0m \u001b[0;32mnot\u001b[0m \u001b[0;32min\u001b[0m \u001b[0mplot_options\u001b[0m\u001b[0;34m:\u001b[0m\u001b[0;34m\u001b[0m\u001b[0;34m\u001b[0m\u001b[0m\n\u001b[1;32m    134\u001b[0m         \u001b[0mplot_options\u001b[0m\u001b[0;34m[\u001b[0m\u001b[0;34m\"auto_open\"\u001b[0m\u001b[0;34m]\u001b[0m \u001b[0;34m=\u001b[0m \u001b[0;32mFalse\u001b[0m\u001b[0;34m\u001b[0m\u001b[0;34m\u001b[0m\u001b[0m\n\u001b[0;32m--> 135\u001b[0;31m     \u001b[0murl\u001b[0m \u001b[0;34m=\u001b[0m \u001b[0mplot\u001b[0m\u001b[0;34m(\u001b[0m\u001b[0mfigure_or_data\u001b[0m\u001b[0;34m,\u001b[0m \u001b[0;34m**\u001b[0m\u001b[0mplot_options\u001b[0m\u001b[0;34m)\u001b[0m\u001b[0;34m\u001b[0m\u001b[0;34m\u001b[0m\u001b[0m\n\u001b[0m\u001b[1;32m    136\u001b[0m \u001b[0;34m\u001b[0m\u001b[0m\n\u001b[1;32m    137\u001b[0m     \u001b[0;32mif\u001b[0m \u001b[0misinstance\u001b[0m\u001b[0;34m(\u001b[0m\u001b[0mfigure_or_data\u001b[0m\u001b[0;34m,\u001b[0m \u001b[0mdict\u001b[0m\u001b[0;34m)\u001b[0m\u001b[0;34m:\u001b[0m\u001b[0;34m\u001b[0m\u001b[0;34m\u001b[0m\u001b[0m\n",
      "\u001b[0;32m~/.local/lib/python3.8/site-packages/chart_studio/plotly/plotly.py\u001b[0m in \u001b[0;36mplot\u001b[0;34m(figure_or_data, validate, **plot_options)\u001b[0m\n\u001b[1;32m    274\u001b[0m             \u001b[0mgrid_filename\u001b[0m \u001b[0;34m=\u001b[0m \u001b[0mfilename\u001b[0m \u001b[0;34m+\u001b[0m \u001b[0;34m\"_grid\"\u001b[0m\u001b[0;34m\u001b[0m\u001b[0;34m\u001b[0m\u001b[0m\n\u001b[1;32m    275\u001b[0m \u001b[0;34m\u001b[0m\u001b[0m\n\u001b[0;32m--> 276\u001b[0;31m         grid_ops.upload(\n\u001b[0m\u001b[1;32m    277\u001b[0m             \u001b[0mgrid\u001b[0m\u001b[0;34m=\u001b[0m\u001b[0mgrid\u001b[0m\u001b[0;34m,\u001b[0m\u001b[0;34m\u001b[0m\u001b[0;34m\u001b[0m\u001b[0m\n\u001b[1;32m    278\u001b[0m             \u001b[0mfilename\u001b[0m\u001b[0;34m=\u001b[0m\u001b[0mgrid_filename\u001b[0m\u001b[0;34m,\u001b[0m\u001b[0;34m\u001b[0m\u001b[0;34m\u001b[0m\u001b[0m\n",
      "\u001b[0;32m~/.local/lib/python3.8/site-packages/chart_studio/plotly/plotly.py\u001b[0m in \u001b[0;36mupload\u001b[0;34m(cls, grid, filename, world_readable, auto_open, meta)\u001b[0m\n\u001b[1;32m   1085\u001b[0m                 \u001b[0mpayload\u001b[0m\u001b[0;34m[\u001b[0m\u001b[0;34m\"parent_path\"\u001b[0m\u001b[0;34m]\u001b[0m \u001b[0;34m=\u001b[0m \u001b[0mparent_path\u001b[0m\u001b[0;34m\u001b[0m\u001b[0;34m\u001b[0m\u001b[0m\n\u001b[1;32m   1086\u001b[0m \u001b[0;34m\u001b[0m\u001b[0m\n\u001b[0;32m-> 1087\u001b[0;31m         \u001b[0mfile_info\u001b[0m \u001b[0;34m=\u001b[0m \u001b[0m_create_or_overwrite_grid\u001b[0m\u001b[0;34m(\u001b[0m\u001b[0mpayload\u001b[0m\u001b[0;34m)\u001b[0m\u001b[0;34m\u001b[0m\u001b[0;34m\u001b[0m\u001b[0m\n\u001b[0m\u001b[1;32m   1088\u001b[0m \u001b[0;34m\u001b[0m\u001b[0m\n\u001b[1;32m   1089\u001b[0m         \u001b[0mcols\u001b[0m \u001b[0;34m=\u001b[0m \u001b[0mfile_info\u001b[0m\u001b[0;34m[\u001b[0m\u001b[0;34m\"cols\"\u001b[0m\u001b[0;34m]\u001b[0m\u001b[0;34m\u001b[0m\u001b[0;34m\u001b[0m\u001b[0m\n",
      "\u001b[0;32m~/.local/lib/python3.8/site-packages/chart_studio/plotly/plotly.py\u001b[0m in \u001b[0;36m_create_or_overwrite_grid\u001b[0;34m(data, max_retries)\u001b[0m\n\u001b[1;32m   1526\u001b[0m     \u001b[0;32mif\u001b[0m \u001b[0mfilename\u001b[0m\u001b[0;34m:\u001b[0m\u001b[0;34m\u001b[0m\u001b[0;34m\u001b[0m\u001b[0m\n\u001b[1;32m   1527\u001b[0m         \u001b[0;32mtry\u001b[0m\u001b[0;34m:\u001b[0m\u001b[0;34m\u001b[0m\u001b[0;34m\u001b[0m\u001b[0m\n\u001b[0;32m-> 1528\u001b[0;31m             \u001b[0mlookup_res\u001b[0m \u001b[0;34m=\u001b[0m \u001b[0mv2\u001b[0m\u001b[0;34m.\u001b[0m\u001b[0mfiles\u001b[0m\u001b[0;34m.\u001b[0m\u001b[0mlookup\u001b[0m\u001b[0;34m(\u001b[0m\u001b[0mfilename\u001b[0m\u001b[0;34m)\u001b[0m\u001b[0;34m\u001b[0m\u001b[0;34m\u001b[0m\u001b[0m\n\u001b[0m\u001b[1;32m   1529\u001b[0m             \u001b[0;32mif\u001b[0m \u001b[0misinstance\u001b[0m\u001b[0;34m(\u001b[0m\u001b[0mlookup_res\u001b[0m\u001b[0;34m.\u001b[0m\u001b[0mcontent\u001b[0m\u001b[0;34m,\u001b[0m \u001b[0mbytes\u001b[0m\u001b[0;34m)\u001b[0m\u001b[0;34m:\u001b[0m\u001b[0;34m\u001b[0m\u001b[0;34m\u001b[0m\u001b[0m\n\u001b[1;32m   1530\u001b[0m                 \u001b[0mcontent\u001b[0m \u001b[0;34m=\u001b[0m \u001b[0mlookup_res\u001b[0m\u001b[0;34m.\u001b[0m\u001b[0mcontent\u001b[0m\u001b[0;34m.\u001b[0m\u001b[0mdecode\u001b[0m\u001b[0;34m(\u001b[0m\u001b[0;34m\"utf-8\"\u001b[0m\u001b[0;34m)\u001b[0m\u001b[0;34m\u001b[0m\u001b[0;34m\u001b[0m\u001b[0m\n",
      "\u001b[0;32m~/.local/lib/python3.8/site-packages/chart_studio/api/v2/files.py\u001b[0m in \u001b[0;36mlookup\u001b[0;34m(path, parent, user, exists)\u001b[0m\n\u001b[1;32m     83\u001b[0m     \u001b[0murl\u001b[0m \u001b[0;34m=\u001b[0m \u001b[0mbuild_url\u001b[0m\u001b[0;34m(\u001b[0m\u001b[0mRESOURCE\u001b[0m\u001b[0;34m,\u001b[0m \u001b[0mroute\u001b[0m\u001b[0;34m=\u001b[0m\u001b[0;34m\"lookup\"\u001b[0m\u001b[0;34m)\u001b[0m\u001b[0;34m\u001b[0m\u001b[0;34m\u001b[0m\u001b[0m\n\u001b[1;32m     84\u001b[0m     \u001b[0mparams\u001b[0m \u001b[0;34m=\u001b[0m \u001b[0mmake_params\u001b[0m\u001b[0;34m(\u001b[0m\u001b[0mpath\u001b[0m\u001b[0;34m=\u001b[0m\u001b[0mpath\u001b[0m\u001b[0;34m,\u001b[0m \u001b[0mparent\u001b[0m\u001b[0;34m=\u001b[0m\u001b[0mparent\u001b[0m\u001b[0;34m,\u001b[0m \u001b[0muser\u001b[0m\u001b[0;34m=\u001b[0m\u001b[0muser\u001b[0m\u001b[0;34m,\u001b[0m \u001b[0mexists\u001b[0m\u001b[0;34m=\u001b[0m\u001b[0mexists\u001b[0m\u001b[0;34m)\u001b[0m\u001b[0;34m\u001b[0m\u001b[0;34m\u001b[0m\u001b[0m\n\u001b[0;32m---> 85\u001b[0;31m     \u001b[0;32mreturn\u001b[0m \u001b[0mrequest\u001b[0m\u001b[0;34m(\u001b[0m\u001b[0;34m\"get\"\u001b[0m\u001b[0;34m,\u001b[0m \u001b[0murl\u001b[0m\u001b[0;34m,\u001b[0m \u001b[0mparams\u001b[0m\u001b[0;34m=\u001b[0m\u001b[0mparams\u001b[0m\u001b[0;34m)\u001b[0m\u001b[0;34m\u001b[0m\u001b[0;34m\u001b[0m\u001b[0m\n\u001b[0m",
      "\u001b[0;32m/usr/lib/python3.8/site-packages/retrying.py\u001b[0m in \u001b[0;36mwrapped_f\u001b[0;34m(*args, **kw)\u001b[0m\n\u001b[1;32m     47\u001b[0m             \u001b[0;34m@\u001b[0m\u001b[0msix\u001b[0m\u001b[0;34m.\u001b[0m\u001b[0mwraps\u001b[0m\u001b[0;34m(\u001b[0m\u001b[0mf\u001b[0m\u001b[0;34m)\u001b[0m\u001b[0;34m\u001b[0m\u001b[0;34m\u001b[0m\u001b[0m\n\u001b[1;32m     48\u001b[0m             \u001b[0;32mdef\u001b[0m \u001b[0mwrapped_f\u001b[0m\u001b[0;34m(\u001b[0m\u001b[0;34m*\u001b[0m\u001b[0margs\u001b[0m\u001b[0;34m,\u001b[0m \u001b[0;34m**\u001b[0m\u001b[0mkw\u001b[0m\u001b[0;34m)\u001b[0m\u001b[0;34m:\u001b[0m\u001b[0;34m\u001b[0m\u001b[0;34m\u001b[0m\u001b[0m\n\u001b[0;32m---> 49\u001b[0;31m                 \u001b[0;32mreturn\u001b[0m \u001b[0mRetrying\u001b[0m\u001b[0;34m(\u001b[0m\u001b[0;34m*\u001b[0m\u001b[0mdargs\u001b[0m\u001b[0;34m,\u001b[0m \u001b[0;34m**\u001b[0m\u001b[0mdkw\u001b[0m\u001b[0;34m)\u001b[0m\u001b[0;34m.\u001b[0m\u001b[0mcall\u001b[0m\u001b[0;34m(\u001b[0m\u001b[0mf\u001b[0m\u001b[0;34m,\u001b[0m \u001b[0;34m*\u001b[0m\u001b[0margs\u001b[0m\u001b[0;34m,\u001b[0m \u001b[0;34m**\u001b[0m\u001b[0mkw\u001b[0m\u001b[0;34m)\u001b[0m\u001b[0;34m\u001b[0m\u001b[0;34m\u001b[0m\u001b[0m\n\u001b[0m\u001b[1;32m     50\u001b[0m \u001b[0;34m\u001b[0m\u001b[0m\n\u001b[1;32m     51\u001b[0m             \u001b[0;32mreturn\u001b[0m \u001b[0mwrapped_f\u001b[0m\u001b[0;34m\u001b[0m\u001b[0;34m\u001b[0m\u001b[0m\n",
      "\u001b[0;32m/usr/lib/python3.8/site-packages/retrying.py\u001b[0m in \u001b[0;36mcall\u001b[0;34m(self, fn, *args, **kwargs)\u001b[0m\n\u001b[1;32m    218\u001b[0m                     \u001b[0mjitter\u001b[0m \u001b[0;34m=\u001b[0m \u001b[0mrandom\u001b[0m\u001b[0;34m.\u001b[0m\u001b[0mrandom\u001b[0m\u001b[0;34m(\u001b[0m\u001b[0;34m)\u001b[0m \u001b[0;34m*\u001b[0m \u001b[0mself\u001b[0m\u001b[0;34m.\u001b[0m\u001b[0m_wait_jitter_max\u001b[0m\u001b[0;34m\u001b[0m\u001b[0;34m\u001b[0m\u001b[0m\n\u001b[1;32m    219\u001b[0m                     \u001b[0msleep\u001b[0m \u001b[0;34m=\u001b[0m \u001b[0msleep\u001b[0m \u001b[0;34m+\u001b[0m \u001b[0mmax\u001b[0m\u001b[0;34m(\u001b[0m\u001b[0;36m0\u001b[0m\u001b[0;34m,\u001b[0m \u001b[0mjitter\u001b[0m\u001b[0;34m)\u001b[0m\u001b[0;34m\u001b[0m\u001b[0;34m\u001b[0m\u001b[0m\n\u001b[0;32m--> 220\u001b[0;31m                 \u001b[0mtime\u001b[0m\u001b[0;34m.\u001b[0m\u001b[0msleep\u001b[0m\u001b[0;34m(\u001b[0m\u001b[0msleep\u001b[0m \u001b[0;34m/\u001b[0m \u001b[0;36m1000.0\u001b[0m\u001b[0;34m)\u001b[0m\u001b[0;34m\u001b[0m\u001b[0;34m\u001b[0m\u001b[0m\n\u001b[0m\u001b[1;32m    221\u001b[0m \u001b[0;34m\u001b[0m\u001b[0m\n\u001b[1;32m    222\u001b[0m             \u001b[0mattempt_number\u001b[0m \u001b[0;34m+=\u001b[0m \u001b[0;36m1\u001b[0m\u001b[0;34m\u001b[0m\u001b[0;34m\u001b[0m\u001b[0m\n",
      "\u001b[0;31mKeyboardInterrupt\u001b[0m: "
     ]
    }
   ],
   "source": [
    "table = ff.create_table(df)\n",
    "py.iplot(table, filename='jupyter-table1')"
   ]
  },
  {
   "cell_type": "code",
   "execution_count": 85,
   "metadata": {},
   "outputs": [
    {
     "name": "stdout",
     "output_type": "stream",
     "text": [
      "Collecting chart_studio\n",
      "\u001b[?25l  Downloading https://files.pythonhosted.org/packages/b9/3f/d2f3f506ba1aaf109f549f8b01d1483cd3e324c5ebe6b206acee66efdf46/chart_studio-1.0.0-py3-none-any.whl (76kB)\n",
      "\u001b[K     |████████████████████████████████| 81kB 425kB/s eta 0:00:01\n",
      "\u001b[?25hRequirement already satisfied: requests in /usr/lib/python3.8/site-packages (from chart_studio) (2.23.0)\n",
      "Requirement already satisfied: retrying>=1.3.3 in /usr/lib/python3.8/site-packages (from chart_studio) (1.3.3)\n",
      "Requirement already satisfied: six in /usr/lib/python3.8/site-packages (from chart_studio) (1.14.0)\n",
      "Requirement already satisfied: plotly in /home/chips/.local/lib/python3.8/site-packages (from chart_studio) (4.5.4)\n",
      "Requirement already satisfied: chardet>=3.0.2 in /usr/lib/python3.8/site-packages (from requests->chart_studio) (3.0.4)\n",
      "Requirement already satisfied: idna>=2.5 in /usr/lib/python3.8/site-packages (from requests->chart_studio) (2.9)\n",
      "Requirement already satisfied: urllib3>=1.21.1 in /usr/lib/python3.8/site-packages (from requests->chart_studio) (1.25.8)\n",
      "Installing collected packages: chart-studio\n",
      "Successfully installed chart-studio-1.0.0\n"
     ]
    }
   ],
   "source": []
  },
  {
   "cell_type": "code",
   "execution_count": 91,
   "metadata": {},
   "outputs": [],
   "source": [
    "from covid import data"
   ]
  },
  {
   "cell_type": "code",
   "execution_count": 109,
   "metadata": {},
   "outputs": [],
   "source": [
    "a = data.age_distribution('Italy', 2020)\n",
    "b = data.age_distribution('Brazil', 2020)"
   ]
  },
  {
   "cell_type": "code",
   "execution_count": 110,
   "metadata": {},
   "outputs": [],
   "source": [
    "aa = a / a.sum()\n",
    "bb = b / b.sum()"
   ]
  },
  {
   "cell_type": "code",
   "execution_count": 111,
   "metadata": {},
   "outputs": [
    {
     "data": {
      "text/plain": [
       "0.21629324873777292"
      ]
     },
     "execution_count": 111,
     "metadata": {},
     "output_type": "execute_result"
    }
   ],
   "source": [
    "np.abs(aa - bb).sum() / 2"
   ]
  },
  {
   "cell_type": "code",
   "execution_count": 112,
   "metadata": {},
   "outputs": [
    {
     "data": {
      "text/plain": [
       "age\n",
       "0-4     -0.139113\n",
       "5-9     -0.108710\n",
       "10-14   -0.098019\n",
       "15-19   -0.115983\n",
       "20-24   -0.123750\n",
       "25-29   -0.104050\n",
       "30-34   -0.091693\n",
       "35-39   -0.075697\n",
       "40-44   -0.015376\n",
       "45-49    0.051792\n",
       "50-54    0.073664\n",
       "55-59    0.085442\n",
       "60-64    0.094837\n",
       "65-69    0.125598\n",
       "70-74    0.191940\n",
       "75-79    0.226384\n",
       "80-84    0.277420\n",
       "85-89    0.306940\n",
       "90-94    0.314918\n",
       "95-99    0.318349\n",
       "100+     0.239983\n",
       "dtype: float64"
      ]
     },
     "execution_count": 112,
     "metadata": {},
     "output_type": "execute_result"
    }
   ],
   "source": [
    "(aa - bb) * 0.5 / (aa + bb)"
   ]
  },
  {
   "cell_type": "code",
   "execution_count": 137,
   "metadata": {},
   "outputs": [
    {
     "data": {
      "text/html": [
       "<div>\n",
       "<style scoped>\n",
       "    .dataframe tbody tr th:only-of-type {\n",
       "        vertical-align: middle;\n",
       "    }\n",
       "\n",
       "    .dataframe tbody tr th {\n",
       "        vertical-align: top;\n",
       "    }\n",
       "\n",
       "    .dataframe thead th {\n",
       "        text-align: right;\n",
       "    }\n",
       "</style>\n",
       "<table border=\"1\" class=\"dataframe\">\n",
       "  <thead>\n",
       "    <tr style=\"text-align: right;\">\n",
       "      <th></th>\n",
       "      <th>0</th>\n",
       "      <th>1</th>\n",
       "      <th>2</th>\n",
       "      <th>3</th>\n",
       "      <th>4</th>\n",
       "      <th>5</th>\n",
       "      <th>6</th>\n",
       "      <th>7</th>\n",
       "      <th>8</th>\n",
       "    </tr>\n",
       "  </thead>\n",
       "  <tbody>\n",
       "    <tr>\n",
       "      <th>0</th>\n",
       "      <td>93069900.0</td>\n",
       "      <td>10098000.0</td>\n",
       "      <td>6283200.0</td>\n",
       "      <td>20027700.0</td>\n",
       "      <td>21037500.0</td>\n",
       "      <td>15651900.0</td>\n",
       "      <td>7180800.0</td>\n",
       "      <td>2136288.0</td>\n",
       "      <td>1005312.0</td>\n",
       "    </tr>\n",
       "    <tr>\n",
       "      <th>1</th>\n",
       "      <td>14930580.0</td>\n",
       "      <td>201731220.0</td>\n",
       "      <td>15042840.0</td>\n",
       "      <td>11282130.0</td>\n",
       "      <td>28738560.0</td>\n",
       "      <td>41592330.0</td>\n",
       "      <td>13976370.0</td>\n",
       "      <td>9160416.0</td>\n",
       "      <td>4310784.0</td>\n",
       "    </tr>\n",
       "    <tr>\n",
       "      <th>2</th>\n",
       "      <td>11203500.0</td>\n",
       "      <td>22919160.0</td>\n",
       "      <td>95197740.0</td>\n",
       "      <td>30793620.0</td>\n",
       "      <td>25608000.0</td>\n",
       "      <td>25351920.0</td>\n",
       "      <td>16709220.0</td>\n",
       "      <td>6399439.2</td>\n",
       "      <td>3011500.8</td>\n",
       "    </tr>\n",
       "    <tr>\n",
       "      <th>3</th>\n",
       "      <td>37838820.0</td>\n",
       "      <td>23066130.0</td>\n",
       "      <td>61250510.0</td>\n",
       "      <td>89586430.0</td>\n",
       "      <td>64965280.0</td>\n",
       "      <td>43281390.0</td>\n",
       "      <td>45441140.0</td>\n",
       "      <td>8811780.0</td>\n",
       "      <td>4146720.0</td>\n",
       "    </tr>\n",
       "    <tr>\n",
       "      <th>4</th>\n",
       "      <td>40866540.0</td>\n",
       "      <td>60680620.0</td>\n",
       "      <td>47725260.0</td>\n",
       "      <td>70587660.0</td>\n",
       "      <td>80780480.0</td>\n",
       "      <td>60490100.0</td>\n",
       "      <td>45153240.0</td>\n",
       "      <td>12761029.6</td>\n",
       "      <td>6005190.4</td>\n",
       "    </tr>\n",
       "    <tr>\n",
       "      <th>5</th>\n",
       "      <td>16465160.0</td>\n",
       "      <td>23158940.0</td>\n",
       "      <td>32545620.0</td>\n",
       "      <td>29852720.0</td>\n",
       "      <td>41932300.0</td>\n",
       "      <td>50395700.0</td>\n",
       "      <td>34238300.0</td>\n",
       "      <td>9417456.0</td>\n",
       "      <td>4431744.0</td>\n",
       "    </tr>\n",
       "    <tr>\n",
       "      <th>6</th>\n",
       "      <td>12586620.0</td>\n",
       "      <td>5751950.0</td>\n",
       "      <td>10962540.0</td>\n",
       "      <td>19759640.0</td>\n",
       "      <td>15496430.0</td>\n",
       "      <td>21180710.0</td>\n",
       "      <td>30045480.0</td>\n",
       "      <td>9203120.0</td>\n",
       "      <td>4330880.0</td>\n",
       "    </tr>\n",
       "    <tr>\n",
       "      <th>7</th>\n",
       "      <td>9324220.0</td>\n",
       "      <td>6178700.0</td>\n",
       "      <td>7807630.0</td>\n",
       "      <td>8088480.0</td>\n",
       "      <td>11065490.0</td>\n",
       "      <td>14211010.0</td>\n",
       "      <td>17356530.0</td>\n",
       "      <td>4850841.2</td>\n",
       "      <td>2282748.8</td>\n",
       "    </tr>\n",
       "    <tr>\n",
       "      <th>8</th>\n",
       "      <td>5740280.0</td>\n",
       "      <td>3803800.0</td>\n",
       "      <td>4806620.0</td>\n",
       "      <td>4979520.0</td>\n",
       "      <td>6812260.0</td>\n",
       "      <td>8748740.0</td>\n",
       "      <td>10685220.0</td>\n",
       "      <td>2986328.8</td>\n",
       "      <td>1405331.2</td>\n",
       "    </tr>\n",
       "  </tbody>\n",
       "</table>\n",
       "</div>"
      ],
      "text/plain": [
       "            0            1           2           3           4           5  \\\n",
       "0  93069900.0   10098000.0   6283200.0  20027700.0  21037500.0  15651900.0   \n",
       "1  14930580.0  201731220.0  15042840.0  11282130.0  28738560.0  41592330.0   \n",
       "2  11203500.0   22919160.0  95197740.0  30793620.0  25608000.0  25351920.0   \n",
       "3  37838820.0   23066130.0  61250510.0  89586430.0  64965280.0  43281390.0   \n",
       "4  40866540.0   60680620.0  47725260.0  70587660.0  80780480.0  60490100.0   \n",
       "5  16465160.0   23158940.0  32545620.0  29852720.0  41932300.0  50395700.0   \n",
       "6  12586620.0    5751950.0  10962540.0  19759640.0  15496430.0  21180710.0   \n",
       "7   9324220.0    6178700.0   7807630.0   8088480.0  11065490.0  14211010.0   \n",
       "8   5740280.0    3803800.0   4806620.0   4979520.0   6812260.0   8748740.0   \n",
       "\n",
       "            6           7          8  \n",
       "0   7180800.0   2136288.0  1005312.0  \n",
       "1  13976370.0   9160416.0  4310784.0  \n",
       "2  16709220.0   6399439.2  3011500.8  \n",
       "3  45441140.0   8811780.0  4146720.0  \n",
       "4  45153240.0  12761029.6  6005190.4  \n",
       "5  34238300.0   9417456.0  4431744.0  \n",
       "6  30045480.0   9203120.0  4330880.0  \n",
       "7  17356530.0   4850841.2  2282748.8  \n",
       "8  10685220.0   2986328.8  1405331.2  "
      ]
     },
     "execution_count": 137,
     "metadata": {},
     "output_type": "execute_result"
    }
   ],
   "source": [
    "import scipy.optimize as opt\n",
    "\n",
    "cm = data.contact_matrix('Italy', coarse=True)\n",
    "d = data.age_distribution('Italy', 2010, coarse=True) * 1000\n",
    "db = data.age_distribution('Brazil', 2010, coarse=True) * 1000\n",
    "\n",
    "pd.DataFrame(cm.values * d.values[:, None])"
   ]
  },
  {
   "cell_type": "code",
   "execution_count": 160,
   "metadata": {},
   "outputs": [
    {
     "data": {
      "text/plain": [
       "[(1980, 0.915341794211508),\n",
       " (1981, 0.9084800946301557),\n",
       " (1982, 0.9032108570034578),\n",
       " (1983, 0.8991275072776779),\n",
       " (1984, 0.8919956256379671),\n",
       " (1985, 0.8772406235261481),\n",
       " (1986, 0.8473856621627329),\n",
       " (1987, 0.8137237188378958),\n",
       " (1988, 0.7837142976155329),\n",
       " (1989, 0.7622676224413012),\n",
       " (1990, 0.7505183813434855),\n",
       " (1991, 0.7405087156671306),\n",
       " (1992, 0.741207084648654),\n",
       " (1993, 0.7535537188253171),\n",
       " (1994, 0.7736064464091197),\n",
       " (1995, 0.7957529442149447),\n",
       " (1996, 0.8137234320042827),\n",
       " (1997, 0.8343566988508401),\n",
       " (1998, 0.8579490372167493),\n",
       " (1999, 0.8850095962459846),\n",
       " (2000, 0.9120660002633038),\n",
       " (2001, 0.9574243342464954),\n",
       " (2002, 1.0063540090391017),\n",
       " (2003, 1.06158527303765),\n",
       " (2004, 1.1205931419509272),\n",
       " (2005, 1.1793667108107404),\n",
       " (2006, 1.1998071890298019),\n",
       " (2007, 1.21779638010146),\n",
       " (2008, 1.2348740383355303),\n",
       " (2009, 1.2527498610104375),\n",
       " (2010, 1.2742247658933021),\n",
       " (2011, 1.2883229760561763),\n",
       " (2012, 1.306928619487542),\n",
       " (2013, 1.3311639598292717),\n",
       " (2014, 1.3560018811475092),\n",
       " (2015, 1.3783914212228732),\n",
       " (2016, 1.3863622030549931),\n",
       " (2017, 1.3889121214952933),\n",
       " (2018, 1.3854432421972442),\n",
       " (2019, 1.3763535771439908)]"
      ]
     },
     "execution_count": 160,
     "metadata": {},
     "output_type": "execute_result"
    }
   ],
   "source": [
    "n1 = d.values / d.sum()\n",
    "\n",
    "def objective(n):\n",
    "    res =  (n * cm.values - (n * cm.values.T).T)\n",
    "    res *= res\n",
    "    return res.sum() + (n.sum() - 1)**2\n",
    "\n",
    "def fn(yy, c='Italy'):\n",
    "    n = data.age_distribution(c, yy, coarse=True).values * 1.0\n",
    "    n /= n.sum()\n",
    "    return objective(n)\n",
    "\n",
    "[(yy, fn(yy)) for yy in range(1980, 2020)]"
   ]
  },
  {
   "cell_type": "code",
   "execution_count": 24,
   "metadata": {},
   "outputs": [
    {
     "ename": "NameError",
     "evalue": "name 'model' is not defined",
     "output_type": "error",
     "traceback": [
      "\u001b[0;31m---------------------------------------------------------------------------\u001b[0m",
      "\u001b[0;31mNameError\u001b[0m                                 Traceback (most recent call last)",
      "\u001b[0;32m<ipython-input-24-1f8a688cae5d>\u001b[0m in \u001b[0;36m<module>\u001b[0;34m\u001b[0m\n\u001b[0;32m----> 1\u001b[0;31m \u001b[0mmodel\u001b[0m\u001b[0;34m\u001b[0m\u001b[0;34m\u001b[0m\u001b[0m\n\u001b[0m",
      "\u001b[0;31mNameError\u001b[0m: name 'model' is not defined"
     ]
    }
   ],
   "source": [
    "model"
   ]
  },
  {
   "cell_type": "code",
   "execution_count": 59,
   "metadata": {},
   "outputs": [],
   "source": [
    "from covid import data"
   ]
  },
  {
   "cell_type": "code",
   "execution_count": 63,
   "metadata": {},
   "outputs": [
    {
     "data": {
      "text/html": [
       "<div>\n",
       "<style scoped>\n",
       "    .dataframe tbody tr th:only-of-type {\n",
       "        vertical-align: middle;\n",
       "    }\n",
       "\n",
       "    .dataframe tbody tr th {\n",
       "        vertical-align: top;\n",
       "    }\n",
       "\n",
       "    .dataframe thead th {\n",
       "        text-align: right;\n",
       "    }\n",
       "</style>\n",
       "<table border=\"1\" class=\"dataframe\">\n",
       "  <thead>\n",
       "    <tr style=\"text-align: right;\">\n",
       "      <th></th>\n",
       "      <th>region</th>\n",
       "      <th>regular</th>\n",
       "      <th>icu</th>\n",
       "      <th>cases_influenza_regular</th>\n",
       "      <th>cases_influenza_icu</th>\n",
       "      <th>cases_other_regular</th>\n",
       "      <th>cases_other_icu</th>\n",
       "      <th>mechanical_ventilators</th>\n",
       "      <th>children</th>\n",
       "      <th>adults</th>\n",
       "      <th>elderly</th>\n",
       "      <th>population</th>\n",
       "    </tr>\n",
       "    <tr>\n",
       "      <th>ref</th>\n",
       "      <th></th>\n",
       "      <th></th>\n",
       "      <th></th>\n",
       "      <th></th>\n",
       "      <th></th>\n",
       "      <th></th>\n",
       "      <th></th>\n",
       "      <th></th>\n",
       "      <th></th>\n",
       "      <th></th>\n",
       "      <th></th>\n",
       "      <th></th>\n",
       "    </tr>\n",
       "  </thead>\n",
       "  <tbody>\n",
       "    <tr>\n",
       "      <th>355030</th>\n",
       "      <td>São Paulo</td>\n",
       "      <td>13534</td>\n",
       "      <td>1937</td>\n",
       "      <td>693</td>\n",
       "      <td>91</td>\n",
       "      <td>8137</td>\n",
       "      <td>1250</td>\n",
       "      <td>6250</td>\n",
       "      <td>2713332</td>\n",
       "      <td>7491395</td>\n",
       "      <td>1352785</td>\n",
       "      <td>11557512</td>\n",
       "    </tr>\n",
       "  </tbody>\n",
       "</table>\n",
       "</div>"
      ],
      "text/plain": [
       "           region  regular   icu  cases_influenza_regular  \\\n",
       "ref                                                         \n",
       "355030  São Paulo    13534  1937                      693   \n",
       "\n",
       "        cases_influenza_icu  cases_other_regular  cases_other_icu  \\\n",
       "ref                                                                 \n",
       "355030                   91                 8137             1250   \n",
       "\n",
       "        mechanical_ventilators  children   adults  elderly  population  \n",
       "ref                                                                     \n",
       "355030                    6250   2713332  7491395  1352785    11557512  "
      ]
     },
     "execution_count": 63,
     "metadata": {},
     "output_type": "execute_result"
    }
   ],
   "source": [
    "df = data.brazil_healthcare_capacity()\n",
    "df[df.region == 'São Paulo']"
   ]
  },
  {
   "cell_type": "code",
   "execution_count": 64,
   "metadata": {},
   "outputs": [
    {
     "data": {
      "text/plain": [
       "0.17212418213244354"
      ]
     },
     "execution_count": 64,
     "metadata": {},
     "output_type": "execute_result"
    }
   ],
   "source": [
    "region.icu_beds_pm"
   ]
  },
  {
   "cell_type": "code",
   "execution_count": 65,
   "metadata": {},
   "outputs": [
    {
     "data": {
      "text/plain": [
       "0.6923076923076923"
      ]
     },
     "execution_count": 65,
     "metadata": {},
     "output_type": "execute_result"
    }
   ],
   "source": [
    "region.icu_occupancy_rate"
   ]
  },
  {
   "cell_type": "code",
   "execution_count": 66,
   "metadata": {},
   "outputs": [],
   "source": [
    "L = list(map(int, ['350390', '350660', '351570', '351830', '351880', '352310', '353060', '353980', '354500', '354680', '355250', '350900', '350920', '351630', '351640', '352850', '350570', '351060', '352250', '352500', '353440', '353910', '354730', '351380', '352940', '354330', '354410', '354780', '354870', '354880', '351300', '351500', '351510', '352220', '352620', '354995', '355280', '355645', '355030']))"
   ]
  },
  {
   "cell_type": "code",
   "execution_count": 72,
   "metadata": {},
   "outputs": [],
   "source": [
    "L_ = [x for x in L if x in df.index]"
   ]
  },
  {
   "cell_type": "code",
   "execution_count": 81,
   "metadata": {},
   "outputs": [
    {
     "data": {
      "text/plain": [
       "2880"
      ]
     },
     "execution_count": 81,
     "metadata": {},
     "output_type": "execute_result"
    }
   ],
   "source": [
    "df.loc[L_].icu.sum()"
   ]
  },
  {
   "cell_type": "code",
   "execution_count": 82,
   "metadata": {},
   "outputs": [
    {
     "data": {
      "text/plain": [
       "20734"
      ]
     },
     "execution_count": 82,
     "metadata": {},
     "output_type": "execute_result"
    }
   ],
   "source": [
    "df.loc[L_].regular.sum()"
   ]
  },
  {
   "cell_type": "code",
   "execution_count": 140,
   "metadata": {},
   "outputs": [
    {
     "data": {
      "text/plain": [
       "20004795"
      ]
     },
     "execution_count": 140,
     "metadata": {},
     "output_type": "execute_result"
    }
   ],
   "source": [
    "df.loc[L_].population.sum()"
   ]
  },
  {
   "cell_type": "code",
   "execution_count": 139,
   "metadata": {},
   "outputs": [
    {
     "data": {
      "text/plain": [
       "180981081"
      ]
     },
     "execution_count": 139,
     "metadata": {},
     "output_type": "execute_result"
    }
   ],
   "source": [
    "df.population.sum()"
   ]
  },
  {
   "cell_type": "code",
   "execution_count": 145,
   "metadata": {},
   "outputs": [
    {
     "data": {
      "text/plain": [
       "array([0.13533528, 0.17377394, 0.22313016, 0.2865048 , 0.36787944,\n",
       "       0.47236655, 0.60653066, 0.77880078, 1.        ])"
      ]
     },
     "execution_count": 145,
     "metadata": {},
     "output_type": "execute_result"
    }
   ],
   "source": [
    "np.exp(-(8 - np.arange(9))/4)"
   ]
  },
  {
   "cell_type": "code",
   "execution_count": null,
   "metadata": {},
   "outputs": [],
   "source": []
  }
 ],
 "metadata": {
  "kernelspec": {
   "display_name": "Python 3",
   "language": "python",
   "name": "python3"
  },
  "language_info": {
   "codemirror_mode": {
    "name": "ipython",
    "version": 3
   },
   "file_extension": ".py",
   "mimetype": "text/x-python",
   "name": "python",
   "nbconvert_exporter": "python",
   "pygments_lexer": "ipython3",
   "version": "3.8.1"
  }
 },
 "nbformat": 4,
 "nbformat_minor": 4
}
